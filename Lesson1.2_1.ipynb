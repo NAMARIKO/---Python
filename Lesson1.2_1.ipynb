{
 "metadata": {
  "language_info": {
   "codemirror_mode": {
    "name": "ipython",
    "version": 3
   },
   "file_extension": ".py",
   "mimetype": "text/x-python",
   "name": "python",
   "nbconvert_exporter": "python",
   "pygments_lexer": "ipython3",
   "version": "3.8.5"
  },
  "orig_nbformat": 2,
  "kernelspec": {
   "name": "python385jvsc74a57bd080c7001624c6bac3295b00c0507b8c8fb3b5c02a69c4e321527e7dcc0ae9de0f",
   "display_name": "Python 3.8.5 64-bit (conda)"
  }
 },
 "nbformat": 4,
 "nbformat_minor": 2,
 "cells": [
  {
   "cell_type": "code",
   "execution_count": 3,
   "metadata": {},
   "outputs": [
    {
     "output_type": "stream",
     "name": "stdout",
     "text": [
      "Hello world2\nHello world2\n"
     ]
    }
   ],
   "source": [
    "print(\"Hello world2\")\n",
    "print(\"Hello world2\")"
   ]
  }
 ]
}